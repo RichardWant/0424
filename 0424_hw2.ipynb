{
 "cells": [
  {
   "cell_type": "code",
   "execution_count": 4,
   "metadata": {},
   "outputs": [
    {
     "name": "stdout",
     "output_type": "stream",
     "text": [
      "猜數字:5\n",
      "繼續猜ㄅ\n",
      "猜數字:4\n",
      "繼續猜ㄅ\n",
      "猜數字:q\n",
      "不玩囉?真無趣!\n"
     ]
    }
   ],
   "source": [
    "x=input(\"猜數字:\")\n",
    "while x!=\"8\" and x!=\"q\":\n",
    "    print(\"繼續猜ㄅ\")\n",
    "    x=input(\"猜數字:\")\n",
    "if x==\"8\":\n",
    "    print(\"被你發現了\")\n",
    "if x==\"q\":\n",
    "    print(\"不玩囉?真無趣!\")"
   ]
  },
  {
   "cell_type": "code",
   "execution_count": null,
   "metadata": {},
   "outputs": [],
   "source": []
  }
 ],
 "metadata": {
  "kernelspec": {
   "display_name": "Python 3",
   "language": "python",
   "name": "python3"
  },
  "language_info": {
   "codemirror_mode": {
    "name": "ipython",
    "version": 3
   },
   "file_extension": ".py",
   "mimetype": "text/x-python",
   "name": "python",
   "nbconvert_exporter": "python",
   "pygments_lexer": "ipython3",
   "version": "3.7.3"
  }
 },
 "nbformat": 4,
 "nbformat_minor": 2
}
